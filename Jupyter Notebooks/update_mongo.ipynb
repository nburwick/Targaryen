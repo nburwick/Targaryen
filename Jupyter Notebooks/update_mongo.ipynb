{
 "cells": [
  {
   "cell_type": "code",
   "execution_count": 1,
   "id": "86dd4a7a-3e30-4498-a60f-53d6c967d7e3",
   "metadata": {},
   "outputs": [
    {
     "name": "stdout",
     "output_type": "stream",
     "text": [
      "PUSHING NEW TRACKS INTO MONGO: See Progress Below\n"
     ]
    },
    {
     "name": "stderr",
     "output_type": "stream",
     "text": [
      "  0%|          | 1/21604 [00:00<4:51:53,  1.23it/s]\n"
     ]
    },
    {
     "ename": "NameError",
     "evalue": "name 'chunk' is not defined",
     "output_type": "error",
     "traceback": [
      "\u001b[0;31m---------------------------------------------------------------------------\u001b[0m",
      "\u001b[0;31mNameError\u001b[0m                                 Traceback (most recent call last)",
      "Cell \u001b[0;32mIn[1], line 53\u001b[0m\n\u001b[1;32m     51\u001b[0m \u001b[38;5;28;01mif\u001b[39;00m \u001b[38;5;129;01mnot\u001b[39;00m pd\u001b[38;5;241m.\u001b[39misnull(result[\u001b[38;5;124m'\u001b[39m\u001b[38;5;124mpreview_url\u001b[39m\u001b[38;5;124m'\u001b[39m]):\n\u001b[1;32m     52\u001b[0m     df\u001b[38;5;241m.\u001b[39mat[df_index, \u001b[38;5;124m'\u001b[39m\u001b[38;5;124mpreview_url\u001b[39m\u001b[38;5;124m'\u001b[39m] \u001b[38;5;241m=\u001b[39m result[\u001b[38;5;124m'\u001b[39m\u001b[38;5;124mpreview_url\u001b[39m\u001b[38;5;124m'\u001b[39m]\n\u001b[0;32m---> 53\u001b[0m     obj_id \u001b[38;5;241m=\u001b[39m {\u001b[38;5;124m'\u001b[39m\u001b[38;5;124m_id\u001b[39m\u001b[38;5;124m'\u001b[39m : \u001b[43mchunk\u001b[49m\u001b[38;5;241m.\u001b[39mloc[df_index, \u001b[38;5;124m'\u001b[39m\u001b[38;5;124m_id\u001b[39m\u001b[38;5;124m'\u001b[39m]}\n\u001b[1;32m     54\u001b[0m     push \u001b[38;5;241m=\u001b[39m { \u001b[38;5;124m\"\u001b[39m\u001b[38;5;124m$set\u001b[39m\u001b[38;5;124m\"\u001b[39m : {\u001b[38;5;124m'\u001b[39m\u001b[38;5;124mpreview_url\u001b[39m\u001b[38;5;124m'\u001b[39m : result[\u001b[38;5;124m'\u001b[39m\u001b[38;5;124mpreview_url\u001b[39m\u001b[38;5;124m'\u001b[39m], \u001b[38;5;124m'\u001b[39m\u001b[38;5;124mtrack_url\u001b[39m\u001b[38;5;124m'\u001b[39m: result[\u001b[38;5;124m'\u001b[39m\u001b[38;5;124mexternal_urls\u001b[39m\u001b[38;5;124m'\u001b[39m][\u001b[38;5;124m'\u001b[39m\u001b[38;5;124mspotify\u001b[39m\u001b[38;5;124m'\u001b[39m],\n\u001b[1;32m     55\u001b[0m                        \u001b[38;5;124m'\u001b[39m\u001b[38;5;124mtrack_id\u001b[39m\u001b[38;5;124m'\u001b[39m: result[\u001b[38;5;124m'\u001b[39m\u001b[38;5;124mid\u001b[39m\u001b[38;5;124m'\u001b[39m]}}\n\u001b[1;32m     56\u001b[0m     \u001b[38;5;28mprint\u001b[39m(df_index, obj_id, push)\n",
      "\u001b[0;31mNameError\u001b[0m: name 'chunk' is not defined"
     ]
    }
   ],
   "source": [
    "# Import Dependencies for Notebook\n",
    "import pandas as pd\n",
    "import json\n",
    "import os\n",
    "import numpy as np\n",
    "from pprint import pprint\n",
    "from pymongo.mongo_client import MongoClient\n",
    "from pymongo.server_api import ServerApi\n",
    "import spotipy\n",
    "from spotipy.oauth2 import SpotifyClientCredentials\n",
    "from spotipy.cache_handler import MemoryCacheHandler\n",
    "import time\n",
    "from tqdm import tqdm\n",
    "\n",
    "from spotify_creds import sp_uri, mdb_uri, secret, cid\n",
    "\n",
    "server = ServerApi('1')\n",
    "# Create a new client and connect to the server\n",
    "mongo = MongoClient(mdb_uri, server_api=server)\n",
    "database = mongo['targ_data']\n",
    "targ_songs = database['song_data']\n",
    "\n",
    "client_credentials_manager = SpotifyClientCredentials(client_id=cid, client_secret=secret, cache_handler=MemoryCacheHandler())\n",
    "spotify = spotipy.Spotify(auth_manager=client_credentials_manager)\n",
    "\n",
    "def get_data():\n",
    "    songs_in_mongo = list(targ_songs.find({'preview_url': None}))\n",
    "    mongo_df = pd.json_normalize(songs_in_mongo)\n",
    "    # df_cleaned.to_json(os.path.join('..', 'Outputs', 'cleaned_data.json'),orient='records')\n",
    "    return mongo_df\n",
    "\n",
    "df = get_data()\n",
    "\n",
    "keep_traits = ['track_id', 'artists', 'track_name',\n",
    "                       'popularity', 'duration_ms', 'explicit', 'danceability',\n",
    "                       'energy', 'key', 'loudness', 'mode','speechiness',\n",
    "                       'acousticness','instrumentalness','liveness','valence',\n",
    "                       'tempo','time_signature']\n",
    "\n",
    "df = df[df['preview_url'].isnull()].reset_index(drop=True)\n",
    "\n",
    "not_found=[]\n",
    "print(\"PUSHING NEW TRACKS INTO MONGO: See Progress Below\")\n",
    "for index, track in tqdm(df.iterrows(), total=df.shape[0]): \n",
    "    spotify = spotipy.Spotify(auth_manager=client_credentials_manager)\n",
    "    results = spotify.search(f\"track:{track['track_name']} artist:{track['artists'][0]}\", limit=50)['tracks']['items']\n",
    "    # print(results[0])\n",
    "    for result in results:\n",
    "        if result['name'] == track['track_name'] and result['artists'][0]['name'] and pd.notnull(result['preview_url']):\n",
    "            df_index = df[df['track_name'] == result['name']].index[0]\n",
    "            if not pd.isnull(result['preview_url']):\n",
    "                df.at[df_index, 'preview_url'] = result['preview_url']\n",
    "                obj_id = {'_id' : chunk.loc[df_index, '_id']}\n",
    "                push = { \"$set\" : {'preview_url' : result['preview_url'], 'track_url': result['external_urls']['spotify'],\n",
    "                                   'track_id': result['id']}}\n",
    "                print(df_index, obj_id, push)\n",
    "                targ_songs.update_one(obj_id, push)\n",
    "                break\n",
    "            else:\n",
    "                not_found.append(track.to_dict())"
   ]
  },
  {
   "cell_type": "code",
   "execution_count": null,
   "id": "59af10a2-6db9-4f15-b343-737f7d7e785d",
   "metadata": {},
   "outputs": [],
   "source": []
  }
 ],
 "metadata": {
  "kernelspec": {
   "display_name": "Python 3",
   "language": "python",
   "name": "python3"
  },
  "language_info": {
   "codemirror_mode": {
    "name": "ipython",
    "version": 3
   },
   "file_extension": ".py",
   "mimetype": "text/x-python",
   "name": "python",
   "nbconvert_exporter": "python",
   "pygments_lexer": "ipython3",
   "version": "3.11.8"
  }
 },
 "nbformat": 4,
 "nbformat_minor": 5
}
