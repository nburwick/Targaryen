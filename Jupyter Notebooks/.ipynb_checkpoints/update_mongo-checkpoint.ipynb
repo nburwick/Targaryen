{
 "cells": [
  {
   "cell_type": "code",
   "execution_count": null,
   "id": "45c9f6ba-28e2-4ff5-8e06-b4acf2796dca",
   "metadata": {},
   "outputs": [],
   "source": []
  }
 ],
 "metadata": {
  "kernelspec": {
   "display_name": "Python 3",
   "language": "python",
   "name": "python3"
  },
  "language_info": {
   "codemirror_mode": {
    "name": "ipython",
    "version": 3
   },
   "file_extension": ".py",
   "mimetype": "text/x-python",
   "name": "python",
   "nbconvert_exporter": "python",
   "pygments_lexer": "ipython3",
   "version": "3.9.16"
  }
 },
 "nbformat": 4,
 "nbformat_minor": 5
}
