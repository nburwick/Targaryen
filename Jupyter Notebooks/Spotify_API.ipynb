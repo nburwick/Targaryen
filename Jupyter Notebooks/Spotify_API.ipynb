{
 "cells": [
  {
   "cell_type": "code",
   "execution_count": 2,
   "id": "edf3d128-9489-4f6c-8665-39767497a61a",
   "metadata": {},
   "outputs": [],
   "source": [
    "# %pip install spotipy\n",
    "import os\n",
    "import spotipy\n",
    "from spotipy.oauth2 import SpotifyClientCredentials\n",
    "from pprint import pprint"
   ]
  },
  {
   "cell_type": "code",
   "execution_count": 3,
   "id": "965bb935-b014-4ef3-a037-1bd0a4a14d9b",
   "metadata": {},
   "outputs": [],
   "source": [
    "os.environ['SPOTIPY_CLIENT_ID'] = \"f9c962881a724177bd2168edffdbbfb1\"\n",
    "os.environ['SPOTIPY_CLIENT_SECRET'] = \"44868fdb925c48ffa4beb0fdb4b2a49c\"\n",
    "os.environ['OAUTH_TOKEN_URL'] = 'https://accounts.spotify.com/api/token'"
   ]
  },
  {
   "cell_type": "code",
   "execution_count": 4,
   "id": "6257d7d5-5600-48c2-93b2-d9771642abf4",
   "metadata": {},
   "outputs": [],
   "source": [
    "spotify = spotipy.Spotify(client_credentials_manager=SpotifyClientCredentials())"
   ]
  },
  {
   "cell_type": "code",
   "execution_count": 5,
   "id": "98a1dd38-d095-422e-80bd-e1280d43fde0",
   "metadata": {},
   "outputs": [],
   "source": [
    "song = 'Unholy (feat. Kim Petras)'\n",
    "artist = 'Sam Smith'"
   ]
  },
  {
   "cell_type": "code",
   "execution_count": null,
   "id": "03a417ce-6ed2-4093-a03f-bb35d52e0b28",
   "metadata": {},
   "outputs": [],
   "source": [
    "results = spotify.search(f'artist:{artist}')\n",
    "results = spotify.audio_features(results['tracks']['items'][0]['id'])"
   ]
  },
  {
   "cell_type": "code",
   "execution_count": 7,
   "id": "9abff7a2-8288-487e-a231-0e56af0e2028",
   "metadata": {},
   "outputs": [
    {
     "name": "stdout",
     "output_type": "stream",
     "text": [
      "{'acousticness': 0.013,\n",
      " 'analysis_url': 'https://api.spotify.com/v1/audio-analysis/3nqQXoyQOWXiESFLlDF1hG',\n",
      " 'danceability': 0.714,\n",
      " 'duration_ms': 156943,\n",
      " 'energy': 0.472,\n",
      " 'id': '3nqQXoyQOWXiESFLlDF1hG',\n",
      " 'instrumentalness': 4.51e-06,\n",
      " 'key': 2,\n",
      " 'liveness': 0.266,\n",
      " 'loudness': -7.375,\n",
      " 'mode': 1,\n",
      " 'speechiness': 0.0864,\n",
      " 'tempo': 131.121,\n",
      " 'time_signature': 4,\n",
      " 'track_href': 'https://api.spotify.com/v1/tracks/3nqQXoyQOWXiESFLlDF1hG',\n",
      " 'type': 'audio_features',\n",
      " 'uri': 'spotify:track:3nqQXoyQOWXiESFLlDF1hG',\n",
      " 'valence': 0.238}\n"
     ]
    }
   ],
   "source": [
    "pprint(results[0])"
   ]
  },
  {
   "cell_type": "code",
   "execution_count": 7,
   "id": "36a57423-9cb2-4f86-835c-28d4a15d50bb",
   "metadata": {},
   "outputs": [],
   "source": [
    "# pprint(results)"
   ]
  },
  {
   "cell_type": "code",
   "execution_count": 8,
   "id": "5285f872-7597-4f47-83e9-e202b0936fe6",
   "metadata": {},
   "outputs": [
    {
     "name": "stdout",
     "output_type": "stream",
     "text": [
      "3Wd1EKFFLy7HZeZF7PEIge\n"
     ]
    }
   ],
   "source": [
    "song_id = \"3Wd1EKFFLy7HZeZF7PEIge\"\n",
    "print(song_id)"
   ]
  },
  {
   "cell_type": "code",
   "execution_count": null,
   "id": "3c81befc-ed06-41da-a17c-7265709b71a1",
   "metadata": {},
   "outputs": [],
   "source": [
    "song_track = spotify.track(song_id)\n",
    "pprint(song_track)"
   ]
  },
  {
   "cell_type": "code",
   "execution_count": null,
   "id": "f7d546be-313a-4143-8209-ca85e2ab4ca7",
   "metadata": {},
   "outputs": [],
   "source": [
    "results = spotify.album_tracks(results['tracks']['items'][0]['album']['id'], limit=1)\n",
    "# pprint(results)"
   ]
  },
  {
   "cell_type": "code",
   "execution_count": null,
   "id": "0eb50249-f3b5-4251-9678-5d2d7035ff2e",
   "metadata": {},
   "outputs": [],
   "source": [
    "song_id = results['items'][0]['id']"
   ]
  },
  {
   "cell_type": "code",
   "execution_count": 11,
   "id": "8f9fc036-dabe-41c5-879c-908a83ef7bc0",
   "metadata": {},
   "outputs": [
    {
     "ename": "NameError",
     "evalue": "name 'song_id' is not defined",
     "output_type": "error",
     "traceback": [
      "\u001b[0;31m---------------------------------------------------------------------------\u001b[0m",
      "\u001b[0;31mNameError\u001b[0m                                 Traceback (most recent call last)",
      "Cell \u001b[0;32mIn[11], line 1\u001b[0m\n\u001b[0;32m----> 1\u001b[0m features \u001b[38;5;241m=\u001b[39m spotify\u001b[38;5;241m.\u001b[39maudio_features(\u001b[43msong_id\u001b[49m)[\u001b[38;5;241m0\u001b[39m]\n",
      "\u001b[0;31mNameError\u001b[0m: name 'song_id' is not defined"
     ]
    }
   ],
   "source": [
    "features = spotify.audio_features(song_id)[0]"
   ]
  },
  {
   "cell_type": "code",
   "execution_count": null,
   "id": "6b179220-f1d1-400c-aa8d-e00d57538aa2",
   "metadata": {},
   "outputs": [],
   "source": [
    "features['song_id'] = song_id"
   ]
  },
  {
   "cell_type": "code",
   "execution_count": null,
   "id": "3ae5c2c8-afcc-4a04-ada8-251b1ea2e786",
   "metadata": {},
   "outputs": [],
   "source": [
    "pprint(features)"
   ]
  },
  {
   "cell_type": "code",
   "execution_count": null,
   "id": "f95283e8-f094-4f97-b41f-222bffc532c6",
   "metadata": {},
   "outputs": [],
   "source": [
    "# ml = our_model.h5\n",
    "# .predict(features[['acousticness', tempo, ....]]) "
   ]
  }
 ],
 "metadata": {
  "kernelspec": {
   "display_name": "Python 3",
   "language": "python",
   "name": "python3"
  },
  "language_info": {
   "codemirror_mode": {
    "name": "ipython",
    "version": 3
   },
   "file_extension": ".py",
   "mimetype": "text/x-python",
   "name": "python",
   "nbconvert_exporter": "python",
   "pygments_lexer": "ipython3",
   "version": "3.9.16"
  }
 },
 "nbformat": 4,
 "nbformat_minor": 5
}
